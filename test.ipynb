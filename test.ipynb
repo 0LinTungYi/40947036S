{
  "nbformat": 4,
  "nbformat_minor": 0,
  "metadata": {
    "colab": {
      "provenance": [],
      "authorship_tag": "ABX9TyMshn/1vFhRn2C6+8PtEyRw",
      "include_colab_link": true
    },
    "kernelspec": {
      "name": "python3",
      "display_name": "Python 3"
    },
    "language_info": {
      "name": "python"
    }
  },
  "cells": [
    {
      "cell_type": "markdown",
      "metadata": {
        "id": "view-in-github",
        "colab_type": "text"
      },
      "source": [
        "<a href=\"https://colab.research.google.com/github/0LinTungYi/40947036S/blob/main/test.ipynb\" target=\"_parent\"><img src=\"https://colab.research.google.com/assets/colab-badge.svg\" alt=\"Open In Colab\"/></a>"
      ]
    },
    {
      "cell_type": "code",
      "execution_count": null,
      "metadata": {
        "id": "xm-LeD-PBCpa"
      },
      "outputs": [],
      "source": [
        "from numpy import *\n",
        "import time\n",
        "import sys\n",
        "import tensorflow as tf"
      ]
    },
    {
      "cell_type": "code",
      "source": [
        "def read_input( round, count, end ):\n",
        "    file = str(round)+'round.txt'\n",
        "    input = []\n",
        "    sol = []\n",
        "    test_in = []\n",
        "    test_sol = []\n",
        "    with open( file, 'r') as infile:\n",
        "        data = infile.readlines()\n",
        "        sys.stdout = sys.stderr\n",
        "        infile.close()\n",
        "    \n",
        "    c = 0\n",
        "    key = 0\n",
        "    temp = []\n",
        "    for row in data:\n",
        "        nums = row.split(\" \")\n",
        "        # 換行\n",
        "        if(  len(nums) == 1 ):\n",
        "            if(key==0):\n",
        "                input.append(temp)\n",
        "            else:\n",
        "                test_in.append(temp)\n",
        "            temp = []\n",
        "            if( c==count ):\n",
        "                key = 1\n",
        "            elif ( c==end ):\n",
        "                break\n",
        "            c+=1\n",
        "            \n",
        "        # 分數 \n",
        "        elif( len(nums) == 3 ):\n",
        "            if( int(nums[0])>250 ):\n",
        "                print( 'read_input error: score>250', int(nums[0]), c )\n",
        "            elif( int(nums[0])<0 ):\n",
        "                print( 'read_input error: score<0', int(nums[0]), c )\n",
        "            if( key==0 ):\n",
        "                sol.append( float(nums[0]) )\n",
        "            else:\n",
        "                test_sol.append( float(nums[0]) )        \n",
        "        elif( len(nums) == 8 ):\n",
        "            for i in range(7):\n",
        "                temp.append( float(nums[i]) )\n",
        "                if( int(nums[i])> 8 or int(nums[i])<0 ):\n",
        "                    print( 'read_input error: chess>8', int(nums[i]) , c)\n",
        "        else: \n",
        "            print( 'read_input error', nums, len(nums) )\n",
        "    \n",
        "    # sol2 = []\n",
        "    # sol2.append( sol )\n",
        "    # test_sol2 = []\n",
        "    # test_sol2.append( test_sol )\n",
        "\n",
        "    # return input, sol2, test_in, test_sol2\n",
        "    return input, sol, test_in, test_sol\n",
        "\n"
      ],
      "metadata": {
        "id": "Zcf2zZzmBf_Z"
      },
      "execution_count": null,
      "outputs": []
    },
    {
      "cell_type": "code",
      "source": [
        "def count_datas( round ):\n",
        "    file = str(round)+'round.txt'\n",
        "    \n",
        "    with open( file, 'r') as infile:\n",
        "        data = infile.readlines()\n",
        "        sys.stdout = sys.stderr\n",
        "        infile.close()\n",
        "    \n",
        "    count=0\n",
        "    for row in data:\n",
        "        nums = row.split(\" \")\n",
        "        # 換行\n",
        "        if(  len(nums) == 1 ):\n",
        "            count+=1\n",
        "    \n",
        "    return count\n"
      ],
      "metadata": {
        "id": "k5EyY9-WBiI_"
      },
      "execution_count": null,
      "outputs": []
    },
    {
      "cell_type": "code",
      "source": [
        "def training_s1( train_in, train_sol, test_in, test_sol, num):\n",
        "    \n",
        "    train_in = array(train_in)\n",
        "    train_sol = array(train_sol).T\n",
        "    test_in = array(test_in)\n",
        "    test_sol = array(test_sol).T\n",
        "    print( train_in )\n",
        "    print( train_sol )\n",
        "    \n",
        "    # initialize nn_weights\n",
        "    random.seed(1)\n",
        "    nn_weights1 =  2 * random.random((49,1)) - 1   # -1 ~ 1\n",
        "    for i in range(num):\n",
        "        print(\"\\n i= \", i, \"nn_weight1=\")\n",
        "        print(nn_weights1)\n",
        "        \n",
        "        # Calculate the outputs for each training examples\n",
        "        z = dot(train_in, nn_weights1)\n",
        "        train_out = 1 / (1 + exp(-z)) \n",
        "        \n",
        "        # Run the NN adjustments \n",
        "        nn_weights1=nn_weights1+dot(train_in.T, (train_sol-train_out)*    train_out*(1-train_out)   ) \n",
        "        # print( dot(train_in.T, (train_sol-train_out)*    train_out*(1-train_out)   ) )\n",
        "        # print(\"\\n i= \", i, \"MSE=\")\n",
        "        if i%2==0:\n",
        "            print( ((train_sol*250 - train_out*250) ** 2).mean() )\n",
        "            \n",
        "    # Print the result for our unknown test input \n",
        "    test_out = 1 / (1 + exp(-(dot(test_in, nn_weights1))))\n",
        "    print('\\nThe final prediction is ', test_out*250 )\n",
        "    print( ((test_out*250 - test_sol*250) ** 2).mean() )\n",
        "    # print(test_out*250)\n",
        "    # print(test_sol*250)\n",
        "   "
      ],
      "metadata": {
        "id": "AACUh6tkBlQ2"
      },
      "execution_count": null,
      "outputs": []
    },
    {
      "cell_type": "code",
      "source": [
        "x_train, y_train, x_test, y_test = read_input( 97, 900, 960 )\n",
        "x_train = array(x_train)/7\n",
        "y_train = array(y_train).T/250\n",
        "x_test = array(x_test)/7\n",
        "y_test = array(y_test).T/250\n",
        "# print( count_datas(97) )\n",
        "print(len(x_train))\n",
        "print(x_train[0].shape) \n",
        "print(len(y_train))\n",
        "print(y_train[0].shape) \n",
        "print(x_train)\n",
        "# print(y_train)"
      ],
      "metadata": {
        "colab": {
          "base_uri": "https://localhost:8080/"
        },
        "id": "-xqc1a7dBoz4",
        "outputId": "195dbbe0-4142-47b0-a8c9-6a580dd54c55"
      },
      "execution_count": null,
      "outputs": [
        {
          "output_type": "stream",
          "name": "stderr",
          "text": [
            "901\n",
            "(49,)\n",
            "901\n",
            "()\n",
            "[[0.57142857 0.42857143 0.14285714 ... 0.42857143 0.85714286 0.28571429]\n",
            " [0.85714286 0.57142857 1.         ... 0.85714286 0.71428571 0.71428571]\n",
            " [0.71428571 0.57142857 0.57142857 ... 0.28571429 0.57142857 0.71428571]\n",
            " ...\n",
            " [0.57142857 0.71428571 0.85714286 ... 0.28571429 1.         0.57142857]\n",
            " [0.71428571 0.42857143 0.42857143 ... 0.57142857 0.14285714 0.71428571]\n",
            " [0.42857143 0.85714286 0.14285714 ... 1.         0.85714286 0.42857143]]\n"
          ]
        }
      ]
    },
    {
      "cell_type": "code",
      "source": [
        "model = tf.keras.models.Sequential([\n",
        "  tf.keras.layers.Flatten(input_shape=(49, 1)),\n",
        "  tf.keras.layers.Dense(8042, activation='relu'),\n",
        "  #　随机的拿掉网络中的部分神经元，从而减小对W权重的依赖，以达到减小过拟合的效果。\n",
        "  tf.keras.layers.Dropout(0.2),\n",
        "  # tf.keras.layers.Dense(10)\n",
        "  # 不用，這代表最後 output 為 10 個 class （0~9）的機率\n",
        "])"
      ],
      "metadata": {
        "id": "pyv2oXsuB7aB"
      },
      "execution_count": null,
      "outputs": []
    },
    {
      "cell_type": "code",
      "source": [
        "# predictions = model(x_train[:1]).numpy()\n",
        "# predictions"
      ],
      "metadata": {
        "id": "hoMmEr9oCF6A"
      },
      "execution_count": null,
      "outputs": []
    },
    {
      "cell_type": "code",
      "source": [
        "# tf.nn.softmax(predictions).numpy()\n",
        "# 经过Softmax处理后，数值转化为相对概率"
      ],
      "metadata": {
        "id": "q_wmTc9xdmKW"
      },
      "execution_count": null,
      "outputs": []
    },
    {
      "cell_type": "code",
      "source": [
        "# loss_fn = tf.keras.losses.SparseCategoricalCrossentropy(from_logits=True)"
      ],
      "metadata": {
        "id": "Xea-hKzHduj4"
      },
      "execution_count": null,
      "outputs": []
    },
    {
      "cell_type": "code",
      "source": [
        "# loss_fn(y_train[:1], predictions).numpy()"
      ],
      "metadata": {
        "id": "S22Uca5xdv9E"
      },
      "execution_count": null,
      "outputs": []
    },
    {
      "cell_type": "code",
      "source": [
        "model.compile(# optimizer='adam',# Adam為目前較常使用的Optimizer\n",
        "      optimizer='SGD',# stochastic gradient decent\n",
        "      # loss=loss_fn,\n",
        "      loss = 'sparse_categorical_crossentropy',\n",
        "      metrics=['accuracy']) "
      ],
      "metadata": {
        "id": "fLWw9MHseufJ"
      },
      "execution_count": null,
      "outputs": []
    },
    {
      "cell_type": "code",
      "source": [
        "model.fit(x_train, y_train, epochs=13)"
      ],
      "metadata": {
        "colab": {
          "base_uri": "https://localhost:8080/"
        },
        "id": "XfQKLYmsexdc",
        "outputId": "08efabd4-662f-4612-cbc7-bb0988304336"
      },
      "execution_count": null,
      "outputs": [
        {
          "output_type": "stream",
          "name": "stderr",
          "text": [
            "Epoch 1/13\n",
            "29/29 [==============================] - 1s 19ms/step - loss: 2.0176 - accuracy: 0.0055\n",
            "Epoch 2/13\n",
            "29/29 [==============================] - 1s 19ms/step - loss: 1.9576 - accuracy: 0.0055\n",
            "Epoch 3/13\n",
            "29/29 [==============================] - 1s 18ms/step - loss: 1.8977 - accuracy: 0.0055\n",
            "Epoch 4/13\n",
            "29/29 [==============================] - 1s 18ms/step - loss: 1.9475 - accuracy: 0.0055\n",
            "Epoch 5/13\n",
            "29/29 [==============================] - 1s 17ms/step - loss: 1.9574 - accuracy: 0.0055\n",
            "Epoch 6/13\n",
            "29/29 [==============================] - 1s 18ms/step - loss: 1.8775 - accuracy: 0.0055\n",
            "Epoch 7/13\n",
            "29/29 [==============================] - 1s 18ms/step - loss: 1.9274 - accuracy: 0.0055\n",
            "Epoch 8/13\n",
            "29/29 [==============================] - 1s 17ms/step - loss: 1.7477 - accuracy: 0.0055\n",
            "Epoch 9/13\n",
            "29/29 [==============================] - 1s 26ms/step - loss: 2.0870 - accuracy: 0.0055\n",
            "Epoch 10/13\n",
            "29/29 [==============================] - 1s 32ms/step - loss: 1.6379 - accuracy: 0.0055\n",
            "Epoch 11/13\n",
            "29/29 [==============================] - 1s 30ms/step - loss: 1.7377 - accuracy: 0.0055\n",
            "Epoch 12/13\n",
            "29/29 [==============================] - 1s 30ms/step - loss: 2.0969 - accuracy: 0.0055\n",
            "Epoch 13/13\n",
            "29/29 [==============================] - 1s 18ms/step - loss: 1.6877 - accuracy: 0.0055\n"
          ]
        },
        {
          "output_type": "execute_result",
          "data": {
            "text/plain": [
              "<keras.callbacks.History at 0x7f10f84aa7f0>"
            ]
          },
          "metadata": {},
          "execution_count": 33
        }
      ]
    },
    {
      "cell_type": "code",
      "source": [
        "model.evaluate(x_test, y_test )"
      ],
      "metadata": {
        "colab": {
          "base_uri": "https://localhost:8080/"
        },
        "id": "BwZr1KB6g5ua",
        "outputId": "662291b6-540c-431d-f90d-765b6ddd6641"
      },
      "execution_count": null,
      "outputs": [
        {
          "output_type": "stream",
          "name": "stderr",
          "text": [
            "2/2 [==============================] - 0s 21ms/step - loss: 0.0032 - accuracy: 0.0000e+00\n"
          ]
        },
        {
          "output_type": "execute_result",
          "data": {
            "text/plain": [
              "[0.0031969500705599785, 0.0]"
            ]
          },
          "metadata": {},
          "execution_count": 34
        }
      ]
    }
  ]
}